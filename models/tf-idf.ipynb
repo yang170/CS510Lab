{
 "cells": [
  {
   "cell_type": "code",
   "execution_count": 13,
   "metadata": {},
   "outputs": [],
   "source": [
    "import json\n",
    "import requests\n",
    "import numpy as np\n",
    "from requests.auth import HTTPBasicAuth\n",
    "from sklearn.feature_extraction.text import TfidfVectorizer\n",
    "from nltk.text import sent_tokenize\n",
    "\n",
    "# disable warnings related to verify\n",
    "requests.urllib3.disable_warnings()"
   ]
  },
  {
   "cell_type": "code",
   "execution_count": 2,
   "metadata": {},
   "outputs": [],
   "source": [
    "def gen_url(abstract_url, size=10):\n",
    "    \"\"\"\n",
    "    Give finer control of the api\n",
    "    :abstract_url str: base url\n",
    "    :size int: number of documents to return\n",
    "    \"\"\"\n",
    "    return \"{}&size={}\".format(abstract_url, size)"
   ]
  },
  {
   "cell_type": "code",
   "execution_count": 14,
   "metadata": {},
   "outputs": [],
   "source": [
    "topics = None\n",
    "with open('../topics/SP12022topics.json') as f_in:\n",
    "    topics = json.load(f_in)\n",
    "\n",
    "topic = topics[0]\n",
    "\n",
    "topic_content_file = '../topics/topic_related_content/topic' + topic['topic_id'] + '.md'\n",
    "topic_text = topic['topic_text']\n",
    "abstract_url = topic['abstract_url']\n",
    "resp = requests.get(gen_url(abstract_url, 100), auth=HTTPBasicAuth('inex', 'qatc2011'), verify=False)\n",
    "contents = json.loads(resp.content)\n",
    "abstracts = []\n",
    "for hit in contents['hits']['hits']:\n",
    "    if hit['_source']['abstract'] not in abstracts:\n",
    "        abstracts.extend(sent_tokenize(hit['_source']['abstract']))\n"
   ]
  },
  {
   "cell_type": "code",
   "execution_count": 15,
   "metadata": {},
   "outputs": [
    {
     "name": "stdout",
     "output_type": "stream",
     "text": [
      "most relevent doc is at index 222\n"
     ]
    },
    {
     "data": {
      "text/plain": [
       "'It’s possible to export data to common file formats like .pdf or .word.'"
      ]
     },
     "execution_count": 15,
     "metadata": {},
     "output_type": "execute_result"
    }
   ],
   "source": [
    "def similarity_dot_prod(X):\n",
    "    \"\"\"\n",
    "    Compute simularity using dot product\n",
    "    :X: vectorized data, where\n",
    "       X[0] = query vector\n",
    "       X[1:] = data vectors\n",
    "    \"\"\"\n",
    "    similarity = X @ X[0].T\n",
    "    # sim(qeury, query) is not meaningful, remove it\n",
    "    similarity = np.delete(similarity.toarray(), 0, 0)\n",
    "    return similarity, np.argmax(similarity)\n",
    "\n",
    "if abstracts[0] != topic_text:\n",
    "    abstracts.insert(0, topic_text) # insert topic text\n",
    "\n",
    "vectorizer = TfidfVectorizer()\n",
    "X = vectorizer.fit_transform(abstracts)\n",
    "\n",
    "abstracts.pop(0) # remove topic_text\n",
    "_, most_relevent_idx = similarity_dot_prod(X)\n",
    "\n",
    "print(\"most relevent doc is at index {}\".format(most_relevent_idx))\n",
    "abstracts[most_relevent_idx]\n"
   ]
  },
  {
   "cell_type": "code",
   "execution_count": 12,
   "metadata": {},
   "outputs": [
    {
     "data": {
      "text/plain": [
       "3.1128264635380027"
      ]
     },
     "execution_count": 12,
     "metadata": {},
     "output_type": "execute_result"
    }
   ],
   "source": [
    "X.toarray()[0].sum()"
   ]
  },
  {
   "cell_type": "code",
   "execution_count": 22,
   "metadata": {},
   "outputs": [
    {
     "data": {
      "text/plain": [
       "array([[0., 0., 0., ..., 0., 0., 0.]])"
      ]
     },
     "execution_count": 22,
     "metadata": {},
     "output_type": "execute_result"
    }
   ],
   "source": [
    "vectorizer.transform(['hello world']).toarray()"
   ]
  }
 ],
 "metadata": {
  "interpreter": {
   "hash": "bbfc99de9e036007b1d000b024afe2bad2419a69543eae7a68542280548eeeda"
  },
  "kernelspec": {
   "display_name": "Python 3.8.10 ('venv': venv)",
   "language": "python",
   "name": "python3"
  },
  "language_info": {
   "codemirror_mode": {
    "name": "ipython",
    "version": 3
   },
   "file_extension": ".py",
   "mimetype": "text/x-python",
   "name": "python",
   "nbconvert_exporter": "python",
   "pygments_lexer": "ipython3",
   "version": "3.8.12"
  },
  "orig_nbformat": 4
 },
 "nbformat": 4,
 "nbformat_minor": 2
}

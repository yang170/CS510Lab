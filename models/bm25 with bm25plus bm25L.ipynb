{
 "cells": [
  {
   "cell_type": "code",
   "execution_count": 34,
   "metadata": {},
   "outputs": [
    {
     "name": "stderr",
     "output_type": "stream",
     "text": [
      "[nltk_data] Downloading package punkt to ./...\n",
      "[nltk_data]   Package punkt is already up-to-date!\n"
     ]
    },
    {
     "data": {
      "text/plain": [
       "True"
      ]
     },
     "execution_count": 34,
     "metadata": {},
     "output_type": "execute_result"
    }
   ],
   "source": [
    "import requests\n",
    "from requests.auth import HTTPBasicAuth\n",
    "import json\n",
    "import nltk\n",
    "from nltk.text import sent_tokenize\n",
    "from nltk import word_tokenize\n",
    "from rank_bm25 import BM25Okapi\n",
    "from rank_bm25 import BM25Plus\n",
    "from rank_bm25 import BM25L\n",
    "from utils import remove_brackets\n",
    "\n",
    "# disable warnings related to verify\n",
    "requests.urllib3.disable_warnings()\n",
    "\n",
    "# download requried resources\n",
    "nltk.download('punkt', download_dir='./')"
   ]
  },
  {
   "cell_type": "markdown",
   "metadata": {},
   "source": [
    "## Document API"
   ]
  },
  {
   "cell_type": "code",
   "execution_count": 4,
   "metadata": {},
   "outputs": [],
   "source": [
    "url = \"https://guacamole.univ-avignon.fr/dblp1/_search?q=%22Digital%20assistant%22&size=10\"\n",
    "resp = requests.get(url, auth=HTTPBasicAuth('inex', 'qatc2011'), verify=False)"
   ]
  },
  {
   "cell_type": "code",
   "execution_count": 5,
   "metadata": {},
   "outputs": [],
   "source": [
    "contents = json.loads(resp.content)"
   ]
  },
  {
   "cell_type": "code",
   "execution_count": 6,
   "metadata": {},
   "outputs": [
    {
     "data": {
      "text/plain": [
       "dict_keys(['id', 'authors', 'title', 'year', 'n_citation', 'page_start', 'page_end', 'doc_type', 'publisher', 'volume', 'issue', 'doi', 'references', 'fos', 'venue', 'abstract', 'nb_references', 'author'])"
      ]
     },
     "execution_count": 6,
     "metadata": {},
     "output_type": "execute_result"
    }
   ],
   "source": [
    "contents['hits']['hits'][0]['_source'].keys()"
   ]
  },
  {
   "cell_type": "code",
   "execution_count": 7,
   "metadata": {},
   "outputs": [],
   "source": [
    "docs = [hit['_source'] for hit in contents['hits']['hits']]"
   ]
  },
  {
   "cell_type": "code",
   "execution_count": 8,
   "metadata": {},
   "outputs": [
    {
     "data": {
      "text/plain": [
       "{'id': 1564531496,\n",
       " 'authors': [{'name': 'Nico Maibaum',\n",
       "   'org': 'University of Rostock#TAB#',\n",
       "   'id': 160412567},\n",
       "  {'name': 'Igor Sedov',\n",
       "   'org': 'University of Rostock#TAB#',\n",
       "   'id': 2103374065},\n",
       "  {'name': 'Clemens H. Cap',\n",
       "   'org': 'University of Rostock#TAB#',\n",
       "   'id': 670430106}],\n",
       " 'title': 'A Citizen Digital Assistant for e-Government',\n",
       " 'year': 2002,\n",
       " 'n_citation': 5,\n",
       " 'page_start': '284',\n",
       " 'page_end': '287',\n",
       " 'doc_type': 'Conference',\n",
       " 'publisher': 'Springer, Berlin, Heidelberg',\n",
       " 'volume': '',\n",
       " 'issue': '',\n",
       " 'doi': '10.1007/978-3-540-46138-8_46',\n",
       " 'references': [1572889834, 2051944488, 2093988169, 2138209909],\n",
       " 'fos': [{'name': 'World Wide Web', 'w': 0.45551},\n",
       "  {'name': 'User assistance', 'w': 0.47753},\n",
       "  {'name': 'E-Government', 'w': 0.0},\n",
       "  {'name': 'Authentication', 'w': 0.49624},\n",
       "  {'name': 'Computer security', 'w': 0.45855},\n",
       "  {'name': 'Computer science', 'w': 0.43787},\n",
       "  {'name': 'Smart card', 'w': 0.49259},\n",
       "  {'name': 'Digital document', 'w': 0.0},\n",
       "  {'name': 'Systems architecture', 'w': 0.45978},\n",
       "  {'name': 'User device', 'w': 0.0},\n",
       "  {'name': 'Personal identification number', 'w': 0.43713}],\n",
       " 'venue': {'raw': 'Electronic Government', 'id': 1132800348, 'type': 'C'},\n",
       " 'abstract': 'In this short paper we describe the architectural concept of a Citizen Digital Assistant (CDA) and preliminary results of our implementation. A CDA is a mobile user device, similar to a Personal Digital Assistant (PDA). It supports the citizen when dealing with public authorities and proves his rights - if desired, even without revealing his identity. Requirements for secure and trusted interactions in e-Government solutions are presented and shortcomings of state of the art digital ID cards are considered. The Citizen Digital Assistant eliminates these shortcomings and enables a citizen-controlled communication providing the secure management of digital documents, identities, and credentials. ',\n",
       " 'nb_references': 4,\n",
       " 'author': {'name': '', 'id': '', 'org': ''}}"
      ]
     },
     "execution_count": 8,
     "metadata": {},
     "output_type": "execute_result"
    }
   ],
   "source": [
    "docs[0]"
   ]
  },
  {
   "cell_type": "code",
   "execution_count": 9,
   "metadata": {},
   "outputs": [
    {
     "data": {
      "text/plain": [
       "['In this short paper we describe the architectural concept of a Citizen Digital Assistant (CDA) and preliminary results of our implementation.',\n",
       " 'A CDA is a mobile user device, similar to a Personal Digital Assistant (PDA).',\n",
       " 'It supports the citizen when dealing with public authorities and proves his rights - if desired, even without revealing his identity.',\n",
       " 'Requirements for secure and trusted interactions in e-Government solutions are presented and shortcomings of state of the art digital ID cards are considered.',\n",
       " 'The Citizen Digital Assistant eliminates these shortcomings and enables a citizen-controlled communication providing the secure management of digital documents, identities, and credentials.']"
      ]
     },
     "execution_count": 9,
     "metadata": {},
     "output_type": "execute_result"
    }
   ],
   "source": [
    "sent_tokenize(docs[0]['abstract'])"
   ]
  },
  {
   "cell_type": "markdown",
   "metadata": {},
   "source": [
    "## BM25"
   ]
  },
  {
   "cell_type": "code",
   "execution_count": 15,
   "metadata": {},
   "outputs": [],
   "source": [
    "with open('../topics/SP12022topics.json','rb') as f_in:\n",
    "    topics = json.load(f_in)"
   ]
  },
  {
   "cell_type": "code",
   "execution_count": 16,
   "metadata": {},
   "outputs": [
    {
     "data": {
      "text/plain": [
       "{'topic_id': 'G01',\n",
       " 'topic_text': 'Digital assistants like Siri and Alexa entrench gender biases says UN',\n",
       " 'topic_url': 'https://www.theguardian.com/technology/2019/may/22/digital-voice-assistants-siri-alexa-gender-biases-unesco-says',\n",
       " 'query_id': 'G01.1',\n",
       " 'query_text': 'Digital assistant',\n",
       " 'abstract_url': 'https://guacamole.univ-avignon.fr/dblp1/_search?q=\"Digital assistant\"'}"
      ]
     },
     "execution_count": 16,
     "metadata": {},
     "output_type": "execute_result"
    }
   ],
   "source": [
    "topic = topics[0]\n",
    "topic"
   ]
  },
  {
   "cell_type": "code",
   "execution_count": 17,
   "metadata": {},
   "outputs": [],
   "source": [
    "topic_content_file = '../topics/topic_related_content/topic' + topic['topic_id'] + '.md'\n",
    "topic_text = topic['topic_text']\n",
    "abstract_url = topic['abstract_url']\n",
    "resp = requests.get(abstract_url, auth=HTTPBasicAuth('inex', 'qatc2011'), verify=False)\n",
    "contents = json.loads(resp.content)\n",
    "abstracts = [hit['_source']['abstract'] for hit in contents['hits']['hits']]"
   ]
  },
  {
   "cell_type": "code",
   "execution_count": 38,
   "metadata": {},
   "outputs": [],
   "source": [
    "docs = []\n",
    "for abstract in abstracts:\n",
    "    docs.extend(sent_tokenize(abstract))\n",
    "tokenized_corpus = [word_tokenize(doc.lower()) for doc in docs]\n",
    "bm25 = BM25Okapi(tokenized_corpus)\n",
    "bm25plus = BM25Plus(tokenized_corpus)\n",
    "bm25L = BM25L(tokenized_corpus)"
   ]
  },
  {
   "cell_type": "code",
   "execution_count": 39,
   "metadata": {},
   "outputs": [],
   "source": [
    "with open(topic_content_file,'r',encoding='utf-8') as f_in:\n",
    "    topic_content = []\n",
    "    for line in f_in:\n",
    "        line = line.strip().lower()\n",
    "        if line:\n",
    "            topic_content.extend(word_tokenize(remove_brackets(line.strip())))"
   ]
  },
  {
   "cell_type": "code",
   "execution_count": 45,
   "metadata": {},
   "outputs": [
    {
     "name": "stdout",
     "output_type": "stream",
     "text": [
      "[0.91104245 0.80261701 0.20949334 1.00408621 1.30490518 0.91104245\n",
      " 0.80261701 0.20949334 1.00408621 1.30490518 0.87581333 0.61866356\n",
      " 0.         0.75849266 0.86174748 0.         0.         0.71087929\n",
      " 3.58942399 2.32317842 0.20949334 0.         0.89308061 0.\n",
      " 0.         0.7353412  0.         2.584723   3.26311333 0.\n",
      " 0.71087929 0.7846698  0.75849266 0.96954138 0.         0.26359664\n",
      " 0.         0.         0.24464239 0.51817331 0.         0.\n",
      " 0.         0.         0.        ]\n",
      "[5.40374656 4.70981677 4.76788128 5.75882434 6.02427548 5.40374656\n",
      " 4.70981677 4.76788128 5.75882434 6.02427548 5.34824324 4.5398907\n",
      " 3.96840334 5.16340505 4.76443824 3.96840334 3.96840334 5.08839041\n",
      " 7.75530937 6.52240361 4.76788128 3.96840334 5.37544775 3.96840334\n",
      " 3.96840334 4.64767108 3.96840334 7.18359602 8.02746038 3.96840334\n",
      " 5.08839041 4.69323812 5.16340505 5.49591134 3.96840334 4.97435276\n",
      " 3.96840334 3.96840334 4.9020187  4.44706333 3.96840334 3.96840334\n",
      " 3.96840334 3.96840334 3.96840334]\n",
      "[1.78913456 0.87228273 0.98784283 3.26186677 4.44185337 1.78913456\n",
      " 0.87228273 0.98784283 3.26186677 4.44185337 1.75239383 0.75925255\n",
      " 0.         1.63212986 0.90994516 0.         0.         1.58421891\n",
      " 4.18774406 2.97987949 0.98784283 0.         1.77036522 0.\n",
      " 0.         0.8302325  0.         4.26443454 4.81603302 0.\n",
      " 1.58421891 0.8609826  1.63212986 1.85079956 0.         1.12963029\n",
      " 0.         0.         1.07905631 0.70002059 0.         0.\n",
      " 0.         0.         0.        ]\n"
     ]
    }
   ],
   "source": [
    "title_as_query_scores1 = bm25.get_scores(word_tokenize(topic_text.lower()))\n",
    "print(title_as_query_scores1)\n",
    "title_as_query_scores2 = bm25plus.get_scores(word_tokenize(topic_text.lower()))\n",
    "print(title_as_query_scores2)\n",
    "title_as_query_scores3 = bm25L.get_scores(word_tokenize(topic_text.lower()))\n",
    "print(title_as_query_scores3)"
   ]
  },
  {
   "cell_type": "code",
   "execution_count": 47,
   "metadata": {},
   "outputs": [
    {
     "name": "stdout",
     "output_type": "stream",
     "text": [
      "[ 40.00564763  51.71556647  61.73998786  53.95169306  51.7821711\n",
      "  40.00564763  51.71556647  61.73998786  53.95169306  51.7821711\n",
      "  38.73201225  37.33893928  13.36977693  59.58939866  25.37119845\n",
      "  28.88610269  46.2363724   56.91981031  63.93168605  68.19961695\n",
      "  43.79798526  64.74918758  55.04827488  64.25824217  26.38560643\n",
      "  77.15492727  29.32169481 100.71077927  74.70768156  40.70575396\n",
      "  46.83192013  52.23135643  87.99227928  64.87256409  48.51119183\n",
      "  36.78318696  33.81508135  85.62525659  68.84870093  38.88155814\n",
      "  13.78795961  24.7856463   24.7856463   12.28012259  28.4376667 ]\n",
      "[430.81802341 424.29859234 437.22191613 441.43555814 446.05506826\n",
      " 430.81802341 424.29859234 437.22191613 441.43555814 446.05506826\n",
      " 406.15433213 400.43817233 378.86558506 467.45095073 385.36126119\n",
      " 394.21146158 427.38668374 448.15023252 425.40477708 435.83486215\n",
      " 438.38763675 442.5029229  435.78994519 432.41025748 394.00366789\n",
      " 470.81815588 396.70658663 494.36210128 447.07653666 407.65785442\n",
      " 451.13363721 429.69884287 484.94285978 456.24575732 397.32678265\n",
      " 394.68245694 394.08938227 477.95477794 453.46823688 394.79249174\n",
      " 363.52262711 375.158194   375.158194   363.38710603 377.05522044]\n",
      "[103.49554728  97.94906114  90.98855741 138.6388537  155.61386469\n",
      " 103.49554728  97.94906114  90.98855741 138.6388537  155.61386469\n",
      "  55.16654189  50.0002132   17.2348537  209.98154497  26.18574552\n",
      "  34.29353708  97.54380786 161.53502827  69.95868048  90.95232361\n",
      " 111.53039039  93.04469513 121.97707604  78.92301693  34.24708084\n",
      " 172.89321176  36.9304791  204.37971986 100.68575418  50.84274681\n",
      " 288.46771434  98.62494085 212.12581627 131.95843483  37.96864223\n",
      "  35.96398385  40.87180711 187.87807259 104.32968923  74.28079749\n",
      "   1.21131746  15.39811413  15.39811413   1.13182888  16.68038511]\n"
     ]
    }
   ],
   "source": [
    "article_as_query_scores1 = bm25.get_scores(topic_content)\n",
    "print(article_as_query_scores1)\n",
    "article_as_query_scores2 = bm25plus.get_scores(topic_content)\n",
    "print(article_as_query_scores2)\n",
    "article_as_query_scores3 = bm25L.get_scores(topic_content)\n",
    "print(article_as_query_scores3)"
   ]
  },
  {
   "cell_type": "code",
   "execution_count": 48,
   "metadata": {},
   "outputs": [
    {
     "name": "stdout",
     "output_type": "stream",
     "text": [
      "============== BM25Okapi ==============\n",
      "============== Query title ==============\n",
      "Digital assistants like Siri and Alexa entrench gender biases says UN\n",
      "============== Highest ranked passage by title ==============\n",
      "Digital assistants are emerging to become more prevalent in our daily lives.\n",
      "============== Highest ranked passage by content ==============\n",
      "In particular, the ubiquitous access to remote resources is one of the most interesting characteristics achievable by using mobile devices such as Personal Digital Assistants, cellular phones and tablets.\n",
      "============== BM25plus ==============\n",
      "============== Query title ==============\n",
      "Digital assistants like Siri and Alexa entrench gender biases says UN\n",
      "============== Highest ranked passage by title ==============\n",
      "This paper presents an architecture that allows users to search and visualize complex 3D models over Personal Digital Assistants.\n",
      "============== Highest ranked passage by content ==============\n",
      "In particular, the ubiquitous access to remote resources is one of the most interesting characteristics achievable by using mobile devices such as Personal Digital Assistants, cellular phones and tablets.\n",
      "============== BM25OL==============\n",
      "============== Query title ==============\n",
      "Digital assistants like Siri and Alexa entrench gender biases says UN\n",
      "============== Highest ranked passage by title ==============\n",
      "This paper presents an architecture that allows users to search and visualize complex 3D models over Personal Digital Assistants.\n",
      "============== Highest ranked passage by content ==============\n",
      "The object selected for visualization is forwarded to a specialized graphics provider; this provider allows the users to investigate the object remotely rendering the scene and sending back to the Personal Digital Assistant the computed image.\n"
     ]
    }
   ],
   "source": [
    "print('============== BM25Okapi ==============')\n",
    "print('============== Query title ==============')\n",
    "print(topic_text)\n",
    "print('============== Highest ranked passage by title ==============')\n",
    "print(docs[title_as_query_scores1.argmax()])\n",
    "print('============== Highest ranked passage by content ==============')\n",
    "print(docs[article_as_query_scores1.argmax()])\n",
    "\n",
    "print('============== BM25plus ==============')\n",
    "print('============== Query title ==============')\n",
    "print(topic_text)\n",
    "print('============== Highest ranked passage by title ==============')\n",
    "print(docs[title_as_query_scores2.argmax()])\n",
    "print('============== Highest ranked passage by content ==============')\n",
    "print(docs[article_as_query_scores2.argmax()])\n",
    "\n",
    "print('============== BM25OL==============')\n",
    "print('============== Query title ==============')\n",
    "print(topic_text)\n",
    "print('============== Highest ranked passage by title ==============')\n",
    "print(docs[title_as_query_scores3.argmax()])\n",
    "print('============== Highest ranked passage by content ==============')\n",
    "print(docs[article_as_query_scores3.argmax()])\n"
   ]
  },
  {
   "cell_type": "code",
   "execution_count": null,
   "metadata": {},
   "outputs": [],
   "source": []
  }
 ],
 "metadata": {
  "interpreter": {
   "hash": "aabc4b4683ac0b5ef15abb17bf06255200e5c70280f782b01395bd5eac4b0836"
  },
  "kernelspec": {
   "display_name": "Python 3 (ipykernel)",
   "language": "python",
   "name": "python3"
  },
  "language_info": {
   "codemirror_mode": {
    "name": "ipython",
    "version": 3
   },
   "file_extension": ".py",
   "mimetype": "text/x-python",
   "name": "python",
   "nbconvert_exporter": "python",
   "pygments_lexer": "ipython3",
   "version": "3.9.6"
  }
 },
 "nbformat": 4,
 "nbformat_minor": 2
}

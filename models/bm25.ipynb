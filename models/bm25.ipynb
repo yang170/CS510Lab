{
 "cells": [
  {
   "cell_type": "code",
   "execution_count": null,
   "metadata": {},
   "outputs": [],
   "source": [
    "import requests\n",
    "from requests.auth import HTTPBasicAuth\n",
    "import json\n",
    "from nltk.text import sent_tokenize\n",
    "from nltk import word_tokenize\n",
    "from rank_bm25 import BM25Okapi\n",
    "from rank_bm25 import BM25Plus\n",
    "from rank_bm25 import BM25L\n",
    "from utils import create_dataset\n",
    "\n",
    "# disable warnings related to verify\n",
    "requests.urllib3.disable_warnings()\n",
    "\n",
    "# download requried resources\n",
    "# nltk.download('punkt', download_dir='./')"
   ]
  },
  {
   "cell_type": "markdown",
   "metadata": {},
   "source": [
    "## Document API"
   ]
  },
  {
   "cell_type": "code",
   "execution_count": null,
   "metadata": {},
   "outputs": [],
   "source": [
    "url = \"https://guacamole.univ-avignon.fr/dblp1/_search?q=%22Digital%20assistant%22&size=10\"\n",
    "resp = requests.get(url, auth=HTTPBasicAuth('inex', 'qatc2011'), verify=False)"
   ]
  },
  {
   "cell_type": "code",
   "execution_count": null,
   "metadata": {},
   "outputs": [],
   "source": [
    "contents = json.loads(resp.content)"
   ]
  },
  {
   "cell_type": "code",
   "execution_count": null,
   "metadata": {},
   "outputs": [],
   "source": [
    "contents['hits']['hits'][0]['_source'].keys()"
   ]
  },
  {
   "cell_type": "code",
   "execution_count": null,
   "metadata": {},
   "outputs": [],
   "source": [
    "docs = [hit['_source'] for hit in contents['hits']['hits']]"
   ]
  },
  {
   "cell_type": "code",
   "execution_count": null,
   "metadata": {},
   "outputs": [],
   "source": [
    "docs[0]"
   ]
  },
  {
   "cell_type": "code",
   "execution_count": null,
   "metadata": {},
   "outputs": [],
   "source": [
    "sent_tokenize(docs[0]['abstract'])"
   ]
  },
  {
   "cell_type": "markdown",
   "metadata": {},
   "source": [
    "## BM25"
   ]
  },
  {
   "cell_type": "code",
   "execution_count": null,
   "metadata": {},
   "outputs": [],
   "source": [
    "dataset = create_dataset('../topics/SP12022topics.json','../topics/topic_related_content/')\n",
    "# with open('dataset.json') as f_in:\n",
    "#     dataset = json.load(f_in)"
   ]
  },
  {
   "cell_type": "code",
   "execution_count": null,
   "metadata": {},
   "outputs": [],
   "source": [
    "with open('../topics/SP12022topics.json') as f_in:\n",
    "    topics = json.load(f_in)"
   ]
  },
  {
   "cell_type": "code",
   "execution_count": null,
   "metadata": {},
   "outputs": [],
   "source": [
    "topics[-1]"
   ]
  },
  {
   "cell_type": "code",
   "execution_count": null,
   "metadata": {},
   "outputs": [],
   "source": [
    "data = dataset[0]\n",
    "docs = data['docs']\n",
    "tokenized_corpus = [word_tokenize(doc.lower()) for doc in docs]\n",
    "bm25 = BM25Okapi(tokenized_corpus)\n",
    "bm25plus = BM25Plus(tokenized_corpus)\n",
    "bm25L = BM25L(tokenized_corpus)"
   ]
  },
  {
   "cell_type": "code",
   "execution_count": null,
   "metadata": {},
   "outputs": [],
   "source": [
    "topic_text = data['topic_text']\n",
    "title_as_query_scores1 = bm25.get_scores(word_tokenize(topic_text.lower()))\n",
    "print(title_as_query_scores1)\n",
    "title_as_query_scores2 = bm25plus.get_scores(word_tokenize(topic_text.lower()))\n",
    "print(title_as_query_scores2)\n",
    "title_as_query_scores3 = bm25L.get_scores(word_tokenize(topic_text.lower()))\n",
    "print(title_as_query_scores3)"
   ]
  },
  {
   "cell_type": "code",
   "execution_count": null,
   "metadata": {},
   "outputs": [],
   "source": [
    "topic_content = data['topic_content']\n",
    "article_as_query_scores1 = bm25.get_scores(topic_content)\n",
    "print(article_as_query_scores1)\n",
    "article_as_query_scores2 = bm25plus.get_scores(topic_content)\n",
    "print(article_as_query_scores2)\n",
    "article_as_query_scores3 = bm25L.get_scores(topic_content)\n",
    "print(article_as_query_scores3)"
   ]
  },
  {
   "cell_type": "code",
   "execution_count": null,
   "metadata": {},
   "outputs": [],
   "source": [
    "print('============== BM25Okapi ==============')\n",
    "print('============== Query title ==============')\n",
    "print(topic_text)\n",
    "print('============== Highest ranked passage by title ==============')\n",
    "print(docs[title_as_query_scores1.argmax()])\n",
    "print('============== Highest ranked passage by content ==============')\n",
    "print(docs[article_as_query_scores1.argmax()])\n",
    "\n",
    "print('============== BM25plus ==============')\n",
    "print('============== Query title ==============')\n",
    "print(topic_text)\n",
    "print('============== Highest ranked passage by title ==============')\n",
    "print(docs[title_as_query_scores2.argmax()])\n",
    "print('============== Highest ranked passage by content ==============')\n",
    "print(docs[article_as_query_scores2.argmax()])\n",
    "\n",
    "print('============== BM25OL==============')\n",
    "print('============== Query title ==============')\n",
    "print(topic_text)\n",
    "print('============== Highest ranked passage by title ==============')\n",
    "print(docs[title_as_query_scores3.argmax()])\n",
    "print('============== Highest ranked passage by content ==============')\n",
    "print(docs[article_as_query_scores3.argmax()])\n"
   ]
  }
 ],
 "metadata": {
  "interpreter": {
   "hash": "aabc4b4683ac0b5ef15abb17bf06255200e5c70280f782b01395bd5eac4b0836"
  },
  "kernelspec": {
   "display_name": "Python 3 (ipykernel)",
   "language": "python",
   "name": "python3"
  },
  "language_info": {
   "codemirror_mode": {
    "name": "ipython",
    "version": 3
   },
   "file_extension": ".py",
   "mimetype": "text/x-python",
   "name": "python",
   "nbconvert_exporter": "python",
   "pygments_lexer": "ipython3",
   "version": "3.8.12"
  }
 },
 "nbformat": 4,
 "nbformat_minor": 2
}

{
 "cells": [
  {
   "cell_type": "code",
   "execution_count": 30,
   "metadata": {},
   "outputs": [
    {
     "name": "stderr",
     "output_type": "stream",
     "text": [
      "[nltk_data] Downloading package punkt to ./...\n",
      "[nltk_data]   Package punkt is already up-to-date!\n"
     ]
    },
    {
     "data": {
      "text/plain": [
       "True"
      ]
     },
     "execution_count": 30,
     "metadata": {},
     "output_type": "execute_result"
    }
   ],
   "source": [
    "import requests\n",
    "from requests.auth import HTTPBasicAuth\n",
    "import json\n",
    "import nltk\n",
    "from nltk.text import sent_tokenize\n",
    "from nltk import word_tokenize\n",
    "from rank_bm25 import BM25Okapi\n",
    "from utils import remove_brackets\n",
    "\n",
    "# disable warnings related to verify\n",
    "requests.urllib3.disable_warnings()\n",
    "\n",
    "# download requried resources\n",
    "nltk.download('punkt', download_dir='./')"
   ]
  },
  {
   "cell_type": "markdown",
   "metadata": {},
   "source": [
    "## Document API"
   ]
  },
  {
   "cell_type": "code",
   "execution_count": 31,
   "metadata": {},
   "outputs": [],
   "source": [
    "url = \"https://guacamole.univ-avignon.fr/dblp1/_search?q=%22Digital%20assistant%22&size=10\"\n",
    "resp = requests.get(url, auth=HTTPBasicAuth('inex', 'qatc2011'), verify=False)"
   ]
  },
  {
   "cell_type": "code",
   "execution_count": 32,
   "metadata": {},
   "outputs": [],
   "source": [
    "contents = json.loads(resp.content)"
   ]
  },
  {
   "cell_type": "code",
   "execution_count": 33,
   "metadata": {},
   "outputs": [
    {
     "data": {
      "text/plain": [
       "dict_keys(['id', 'authors', 'title', 'year', 'n_citation', 'page_start', 'page_end', 'doc_type', 'publisher', 'volume', 'issue', 'doi', 'references', 'fos', 'venue', 'abstract', 'nb_references', 'author'])"
      ]
     },
     "execution_count": 33,
     "metadata": {},
     "output_type": "execute_result"
    }
   ],
   "source": [
    "contents['hits']['hits'][0]['_source'].keys()"
   ]
  },
  {
   "cell_type": "code",
   "execution_count": 34,
   "metadata": {},
   "outputs": [],
   "source": [
    "docs = [hit['_source'] for hit in contents['hits']['hits']]"
   ]
  },
  {
   "cell_type": "code",
   "execution_count": 35,
   "metadata": {},
   "outputs": [
    {
     "data": {
      "text/plain": [
       "{'id': 1564531496,\n",
       " 'authors': [{'name': 'Nico Maibaum',\n",
       "   'org': 'University of Rostock#TAB#',\n",
       "   'id': 160412567},\n",
       "  {'name': 'Igor Sedov',\n",
       "   'org': 'University of Rostock#TAB#',\n",
       "   'id': 2103374065},\n",
       "  {'name': 'Clemens H. Cap',\n",
       "   'org': 'University of Rostock#TAB#',\n",
       "   'id': 670430106}],\n",
       " 'title': 'A Citizen Digital Assistant for e-Government',\n",
       " 'year': 2002,\n",
       " 'n_citation': 5,\n",
       " 'page_start': '284',\n",
       " 'page_end': '287',\n",
       " 'doc_type': 'Conference',\n",
       " 'publisher': 'Springer, Berlin, Heidelberg',\n",
       " 'volume': '',\n",
       " 'issue': '',\n",
       " 'doi': '10.1007/978-3-540-46138-8_46',\n",
       " 'references': [1572889834, 2051944488, 2093988169, 2138209909],\n",
       " 'fos': [{'name': 'World Wide Web', 'w': 0.45551},\n",
       "  {'name': 'User assistance', 'w': 0.47753},\n",
       "  {'name': 'E-Government', 'w': 0.0},\n",
       "  {'name': 'Authentication', 'w': 0.49624},\n",
       "  {'name': 'Computer security', 'w': 0.45855},\n",
       "  {'name': 'Computer science', 'w': 0.43787},\n",
       "  {'name': 'Smart card', 'w': 0.49259},\n",
       "  {'name': 'Digital document', 'w': 0.0},\n",
       "  {'name': 'Systems architecture', 'w': 0.45978},\n",
       "  {'name': 'User device', 'w': 0.0},\n",
       "  {'name': 'Personal identification number', 'w': 0.43713}],\n",
       " 'venue': {'raw': 'Electronic Government', 'id': 1132800348, 'type': 'C'},\n",
       " 'abstract': 'In this short paper we describe the architectural concept of a Citizen Digital Assistant (CDA) and preliminary results of our implementation. A CDA is a mobile user device, similar to a Personal Digital Assistant (PDA). It supports the citizen when dealing with public authorities and proves his rights - if desired, even without revealing his identity. Requirements for secure and trusted interactions in e-Government solutions are presented and shortcomings of state of the art digital ID cards are considered. The Citizen Digital Assistant eliminates these shortcomings and enables a citizen-controlled communication providing the secure management of digital documents, identities, and credentials. ',\n",
       " 'nb_references': 4,\n",
       " 'author': {'name': '', 'id': '', 'org': ''}}"
      ]
     },
     "execution_count": 35,
     "metadata": {},
     "output_type": "execute_result"
    }
   ],
   "source": [
    "docs[0]"
   ]
  },
  {
   "cell_type": "code",
   "execution_count": 36,
   "metadata": {},
   "outputs": [
    {
     "data": {
      "text/plain": [
       "['In this short paper we describe the architectural concept of a Citizen Digital Assistant (CDA) and preliminary results of our implementation.',\n",
       " 'A CDA is a mobile user device, similar to a Personal Digital Assistant (PDA).',\n",
       " 'It supports the citizen when dealing with public authorities and proves his rights - if desired, even without revealing his identity.',\n",
       " 'Requirements for secure and trusted interactions in e-Government solutions are presented and shortcomings of state of the art digital ID cards are considered.',\n",
       " 'The Citizen Digital Assistant eliminates these shortcomings and enables a citizen-controlled communication providing the secure management of digital documents, identities, and credentials.']"
      ]
     },
     "execution_count": 36,
     "metadata": {},
     "output_type": "execute_result"
    }
   ],
   "source": [
    "sent_tokenize(docs[0]['abstract'])"
   ]
  },
  {
   "cell_type": "markdown",
   "metadata": {},
   "source": [
    "## BM25"
   ]
  },
  {
   "cell_type": "code",
   "execution_count": 37,
   "metadata": {},
   "outputs": [],
   "source": [
    "with open('../topics/SP12022topics.json') as f_in:\n",
    "    topics = json.load(f_in)"
   ]
  },
  {
   "cell_type": "code",
   "execution_count": 38,
   "metadata": {},
   "outputs": [
    {
     "data": {
      "text/plain": [
       "{'topic_id': 'G01',\n",
       " 'topic_text': 'Digital assistants like Siri and Alexa entrench gender biases says UN',\n",
       " 'topic_url': 'https://www.theguardian.com/technology/2019/may/22/digital-voice-assistants-siri-alexa-gender-biases-unesco-says',\n",
       " 'query_id': 'G01.1',\n",
       " 'query_text': 'Digital assistant',\n",
       " 'abstract_url': 'https://guacamole.univ-avignon.fr/dblp1/_search?q=\"Digital assistant\"'}"
      ]
     },
     "execution_count": 38,
     "metadata": {},
     "output_type": "execute_result"
    }
   ],
   "source": [
    "topic = topics[0]\n",
    "topic"
   ]
  },
  {
   "cell_type": "code",
   "execution_count": 39,
   "metadata": {},
   "outputs": [],
   "source": [
    "topic_content_file = '../topics/topic_related_content/topic' + topic['topic_id'] + '.md'\n",
    "topic_text = topic['topic_text']\n",
    "abstract_url = topic['abstract_url']\n",
    "resp = requests.get(abstract_url, auth=HTTPBasicAuth('inex', 'qatc2011'), verify=False)\n",
    "contents = json.loads(resp.content)\n",
    "abstracts = [hit['_source']['abstract'] for hit in contents['hits']['hits']]"
   ]
  },
  {
   "cell_type": "code",
   "execution_count": 40,
   "metadata": {},
   "outputs": [],
   "source": [
    "docs = []\n",
    "for abstract in abstracts:\n",
    "    docs.extend(sent_tokenize(abstract))\n",
    "tokenized_corpus = [word_tokenize(doc.lower()) for doc in docs]\n",
    "bm25 = BM25Okapi(tokenized_corpus)"
   ]
  },
  {
   "cell_type": "code",
   "execution_count": 41,
   "metadata": {},
   "outputs": [],
   "source": [
    "with open(topic_content_file) as f_in:\n",
    "    topic_content = []\n",
    "    for line in f_in:\n",
    "        line = line.strip().lower()\n",
    "        if line:\n",
    "            topic_content.extend(word_tokenize(remove_brackets(line.strip())))"
   ]
  },
  {
   "cell_type": "code",
   "execution_count": 42,
   "metadata": {},
   "outputs": [
    {
     "data": {
      "text/plain": [
       "array([0.91104245, 0.80261701, 0.20949334, 1.00408621, 1.30490518,\n",
       "       0.91104245, 0.80261701, 0.20949334, 1.00408621, 1.30490518,\n",
       "       0.87581333, 0.61866356, 0.        , 0.75849266, 0.86174748,\n",
       "       0.        , 0.        , 0.71087929, 3.58942399, 2.32317842,\n",
       "       0.20949334, 0.        , 0.89308061, 0.        , 0.        ,\n",
       "       0.7353412 , 0.        , 2.584723  , 3.26311333, 0.        ,\n",
       "       0.71087929, 0.7846698 , 0.75849266, 0.96954138, 0.        ,\n",
       "       0.26359664, 0.        , 0.        , 0.24464239, 0.51817331,\n",
       "       0.        , 0.        , 0.        , 0.        , 0.        ])"
      ]
     },
     "execution_count": 42,
     "metadata": {},
     "output_type": "execute_result"
    }
   ],
   "source": [
    "title_as_query_scores = bm25.get_scores(word_tokenize(topic_text.lower()))\n",
    "title_as_query_scores"
   ]
  },
  {
   "cell_type": "code",
   "execution_count": 43,
   "metadata": {},
   "outputs": [
    {
     "data": {
      "text/plain": [
       "array([ 40.00564763,  51.71556647,  61.73998786,  53.95169306,\n",
       "        51.7821711 ,  40.00564763,  51.71556647,  61.73998786,\n",
       "        53.95169306,  51.7821711 ,  38.73201225,  37.33893928,\n",
       "        13.36977693,  59.58939866,  25.37119845,  28.88610269,\n",
       "        46.2363724 ,  56.91981031,  63.93168605,  68.19961695,\n",
       "        43.79798526,  64.74918758,  55.04827488,  64.25824217,\n",
       "        26.38560643,  77.15492727,  29.32169481, 100.71077927,\n",
       "        74.70768156,  40.70575396,  46.83192013,  52.23135643,\n",
       "        87.99227928,  64.87256409,  48.51119183,  36.78318696,\n",
       "        33.81508135,  85.62525659,  68.84870093,  38.88155814,\n",
       "        13.78795961,  24.7856463 ,  24.7856463 ,  12.28012259,\n",
       "        28.4376667 ])"
      ]
     },
     "execution_count": 43,
     "metadata": {},
     "output_type": "execute_result"
    }
   ],
   "source": [
    "article_as_query_scores = bm25.get_scores(topic_content)\n",
    "article_as_query_scores"
   ]
  },
  {
   "cell_type": "code",
   "execution_count": 44,
   "metadata": {},
   "outputs": [
    {
     "name": "stdout",
     "output_type": "stream",
     "text": [
      "============== Query title ==============\n",
      "Digital assistants like Siri and Alexa entrench gender biases says UN\n",
      "============== Highest ranked passage by title ==============\n",
      "Digital assistants are emerging to become more prevalent in our daily lives.\n",
      "============== Highest ranked passage by content ==============\n",
      "In particular, the ubiquitous access to remote resources is one of the most interesting characteristics achievable by using mobile devices such as Personal Digital Assistants, cellular phones and tablets.\n"
     ]
    }
   ],
   "source": [
    "print('============== Query title ==============')\n",
    "print(topic_text)\n",
    "print('============== Highest ranked passage by title ==============')\n",
    "print(docs[title_as_query_scores.argmax()])\n",
    "print('============== Highest ranked passage by content ==============')\n",
    "print(docs[article_as_query_scores.argmax()])"
   ]
  },
  {
   "cell_type": "code",
   "execution_count": null,
   "metadata": {},
   "outputs": [],
   "source": []
  }
 ],
 "metadata": {
  "interpreter": {
   "hash": "aabc4b4683ac0b5ef15abb17bf06255200e5c70280f782b01395bd5eac4b0836"
  },
  "kernelspec": {
   "display_name": "Python 3.9.7 ('base')",
   "language": "python",
   "name": "python3"
  },
  "language_info": {
   "codemirror_mode": {
    "name": "ipython",
    "version": 3
   },
   "file_extension": ".py",
   "mimetype": "text/x-python",
   "name": "python",
   "nbconvert_exporter": "python",
   "pygments_lexer": "ipython3",
   "version": "3.8.10"
  },
  "orig_nbformat": 4
 },
 "nbformat": 4,
 "nbformat_minor": 2
}

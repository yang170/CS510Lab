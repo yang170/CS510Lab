{
 "cells": [
  {
   "cell_type": "code",
   "execution_count": 1,
   "metadata": {},
   "outputs": [],
   "source": [
    "import requests\n",
    "from requests.auth import HTTPBasicAuth\n",
    "import json\n",
    "from nltk.text import sent_tokenize\n",
    "from nltk import word_tokenize\n",
    "from rank_bm25 import BM25Okapi\n",
    "from utils import remove_brackets"
   ]
  },
  {
   "cell_type": "markdown",
   "metadata": {},
   "source": [
    "## Document API"
   ]
  },
  {
   "cell_type": "code",
   "execution_count": null,
   "metadata": {},
   "outputs": [],
   "source": [
    "url = \"https://guacamole.univ-avignon.fr/dblp1/_search?q=%22Digital%20assistant%22&size=10\"\n",
    "resp = requests.get(url, auth=HTTPBasicAuth('inex', 'qatc2011'), verify=False)"
   ]
  },
  {
   "cell_type": "code",
   "execution_count": null,
   "metadata": {},
   "outputs": [],
   "source": [
    "contents = json.loads(resp.content)"
   ]
  },
  {
   "cell_type": "code",
   "execution_count": null,
   "metadata": {},
   "outputs": [],
   "source": [
    "contents['hits']['hits'][0]['_source'].keys()"
   ]
  },
  {
   "cell_type": "code",
   "execution_count": null,
   "metadata": {},
   "outputs": [],
   "source": [
    "docs = [hit['_source'] for hit in contents['hits']['hits']]"
   ]
  },
  {
   "cell_type": "code",
   "execution_count": null,
   "metadata": {},
   "outputs": [],
   "source": [
    "docs[0]"
   ]
  },
  {
   "cell_type": "code",
   "execution_count": null,
   "metadata": {},
   "outputs": [],
   "source": [
    "sent_tokenize(docs[0]['abstract'])"
   ]
  },
  {
   "cell_type": "markdown",
   "metadata": {},
   "source": [
    "## BM25"
   ]
  },
  {
   "cell_type": "code",
   "execution_count": 2,
   "metadata": {},
   "outputs": [],
   "source": [
    "with open('topics/SP12022topics.json') as f_in:\n",
    "    topics = json.load(f_in)"
   ]
  },
  {
   "cell_type": "code",
   "execution_count": 3,
   "metadata": {},
   "outputs": [
    {
     "data": {
      "text/plain": [
       "{'topic_id': 'G01',\n",
       " 'topic_text': 'Digital assistants like Siri and Alexa entrench gender biases says UN',\n",
       " 'topic_url': 'https://www.theguardian.com/technology/2019/may/22/digital-voice-assistants-siri-alexa-gender-biases-unesco-says',\n",
       " 'query_id': 'G01.1',\n",
       " 'query_text': 'Digital assistant',\n",
       " 'abstract_url': 'https://guacamole.univ-avignon.fr/dblp1/_search?q=\"Digital assistant\"'}"
      ]
     },
     "execution_count": 3,
     "metadata": {},
     "output_type": "execute_result"
    }
   ],
   "source": [
    "topic = topics[0]\n",
    "topic"
   ]
  },
  {
   "cell_type": "code",
   "execution_count": 16,
   "metadata": {},
   "outputs": [
    {
     "name": "stderr",
     "output_type": "stream",
     "text": [
      "C:\\Users\\kerui\\miniconda3\\envs\\Win10\\lib\\site-packages\\urllib3\\connectionpool.py:1043: InsecureRequestWarning: Unverified HTTPS request is being made to host 'guacamole.univ-avignon.fr'. Adding certificate verification is strongly advised. See: https://urllib3.readthedocs.io/en/1.26.x/advanced-usage.html#ssl-warnings\n",
      "  warnings.warn(\n"
     ]
    }
   ],
   "source": [
    "topic_content_file = 'topics/topic_related_content/topic' + topic['topic_id'] + '.md'\n",
    "topic_text = topic['topic_text']\n",
    "abstract_url = topic['abstract_url']\n",
    "resp = requests.get(abstract_url, auth=HTTPBasicAuth('inex', 'qatc2011'), verify=False)\n",
    "contents = json.loads(resp.content)\n",
    "abstracts = [hit['_source']['abstract'] for hit in contents['hits']['hits']]"
   ]
  },
  {
   "cell_type": "code",
   "execution_count": 17,
   "metadata": {},
   "outputs": [],
   "source": [
    "docs = []\n",
    "for abstract in abstracts:\n",
    "    docs.extend(sent_tokenize(abstract))\n",
    "tokenized_corpus = [word_tokenize(doc.lower()) for doc in docs]\n",
    "bm25 = BM25Okapi(tokenized_corpus)"
   ]
  },
  {
   "cell_type": "code",
   "execution_count": 18,
   "metadata": {},
   "outputs": [],
   "source": [
    "with open(topic_content_file) as f_in:\n",
    "    topic_content = []\n",
    "    for line in f_in:\n",
    "        line = line.strip().lower()\n",
    "        if line:\n",
    "            topic_content.extend(word_tokenize(remove_brackets(line.strip())))"
   ]
  },
  {
   "cell_type": "code",
   "execution_count": 19,
   "metadata": {},
   "outputs": [
    {
     "data": {
      "text/plain": [
       "array([0.91104245, 0.80261701, 0.20949334, 1.00408621, 1.30490518,\n",
       "       0.91104245, 0.80261701, 0.20949334, 1.00408621, 1.30490518,\n",
       "       0.87581333, 0.61866356, 0.        , 0.75849266, 0.86174748,\n",
       "       0.        , 0.        , 0.71087929, 3.58942399, 2.32317842,\n",
       "       0.20949334, 0.        , 0.89308061, 0.        , 0.        ,\n",
       "       0.7353412 , 0.        , 2.584723  , 3.26311333, 0.        ,\n",
       "       0.71087929, 0.7846698 , 0.75849266, 0.96954138, 0.        ,\n",
       "       0.26359664, 0.        , 0.        , 0.24464239, 0.51817331,\n",
       "       0.        , 0.        , 0.        , 0.        , 0.        ])"
      ]
     },
     "execution_count": 19,
     "metadata": {},
     "output_type": "execute_result"
    }
   ],
   "source": [
    "title_as_query_scores = bm25.get_scores(word_tokenize(topic_text.lower()))\n",
    "title_as_query_scores"
   ]
  },
  {
   "cell_type": "code",
   "execution_count": 20,
   "metadata": {},
   "outputs": [
    {
     "data": {
      "text/plain": [
       "array([ 40.00564763,  51.71556647,  61.73998786,  53.95169306,\n",
       "        51.7821711 ,  40.00564763,  51.71556647,  61.73998786,\n",
       "        53.95169306,  51.7821711 ,  38.73201225,  37.33893928,\n",
       "        13.36977693,  59.58939866,  25.37119845,  28.88610269,\n",
       "        46.2363724 ,  56.91981031,  63.93168605,  68.19961695,\n",
       "        43.79798526,  64.74918758,  55.04827488,  64.25824217,\n",
       "        26.38560643,  77.15492727,  29.32169481, 100.71077927,\n",
       "        74.70768156,  40.70575396,  46.83192013,  52.23135643,\n",
       "        87.99227928,  64.87256409,  48.51119183,  36.78318696,\n",
       "        33.81508135,  85.62525659,  68.84870093,  38.88155814,\n",
       "        13.78795961,  24.7856463 ,  24.7856463 ,  12.28012259,\n",
       "        28.4376667 ])"
      ]
     },
     "execution_count": 20,
     "metadata": {},
     "output_type": "execute_result"
    }
   ],
   "source": [
    "article_as_query_scores = bm25.get_scores(topic_content)\n",
    "article_as_query_scores"
   ]
  },
  {
   "cell_type": "code",
   "execution_count": 23,
   "metadata": {},
   "outputs": [
    {
     "name": "stdout",
     "output_type": "stream",
     "text": [
      "============== Query title ==============\n",
      "Digital assistants like Siri and Alexa entrench gender biases says UN\n",
      "============== Highest ranked passage by title ==============\n",
      "Digital assistants are emerging to become more prevalent in our daily lives.\n",
      "============== Highest ranked passage by content ==============\n",
      "In particular, the ubiquitous access to remote resources is one of the most interesting characteristics achievable by using mobile devices such as Personal Digital Assistants, cellular phones and tablets.\n"
     ]
    }
   ],
   "source": [
    "print('============== Query title ==============')\n",
    "print(topic_text)\n",
    "print('============== Highest ranked passage by title ==============')\n",
    "print(docs[title_as_query_scores.argmax()])\n",
    "print('============== Highest ranked passage by content ==============')\n",
    "print(docs[article_as_query_scores.argmax()])"
   ]
  }
 ],
 "metadata": {
  "interpreter": {
   "hash": "aabc4b4683ac0b5ef15abb17bf06255200e5c70280f782b01395bd5eac4b0836"
  },
  "kernelspec": {
   "display_name": "Python 3.9.7 ('base')",
   "language": "python",
   "name": "python3"
  },
  "language_info": {
   "codemirror_mode": {
    "name": "ipython",
    "version": 3
   },
   "file_extension": ".py",
   "mimetype": "text/x-python",
   "name": "python",
   "nbconvert_exporter": "python",
   "pygments_lexer": "ipython3",
   "version": "3.8.12"
  },
  "orig_nbformat": 4
 },
 "nbformat": 4,
 "nbformat_minor": 2
}
